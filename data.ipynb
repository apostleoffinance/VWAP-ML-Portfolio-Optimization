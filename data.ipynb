{
 "cells": [
  {
   "cell_type": "code",
   "execution_count": 14,
   "metadata": {},
   "outputs": [
    {
     "name": "stdout",
     "output_type": "stream",
     "text": [
      "                                         open        high         low       close       volume  trade_count          vwap\n",
      "symbol  timestamp                                                                                                        \n",
      "BTC/USD 2022-03-05 06:00:00+00:00  39019.5500  39720.3800  38816.7400  39505.8000   400.495882      27821.0  39299.400637\n",
      "        2022-03-06 06:00:00+00:00  39506.4900  39619.9800  37577.6200  38028.5200   661.143065      36339.0  38553.880344\n",
      "        2022-03-07 06:00:00+00:00  38025.8100  39552.3100  37166.0100  38363.4100  1052.591573      43036.0  38373.199810\n",
      "        2022-03-08 06:00:00+00:00  38358.4900  41883.5800  38008.2700  41514.1800  1252.461647      43940.0  39553.524410\n",
      "        2022-03-09 06:00:00+00:00  41521.5300  42590.0800  38900.0000  39219.0800  1364.981479      43231.0  41404.787303\n",
      "...                                       ...         ...         ...         ...          ...          ...           ...\n",
      "ETH/USD 2025-02-27 06:00:00+00:00   2338.0250   2379.0000   2093.9500   2129.5105    62.257833        211.0   2225.616095\n",
      "        2025-02-28 06:00:00+00:00   2128.6800   2280.0815   2074.8045   2255.6650    96.583625        262.0   2156.309712\n",
      "        2025-03-01 06:00:00+00:00   2255.3150   2258.5330   2142.3750   2229.0575    58.233475         93.0   2199.866199\n",
      "        2025-03-02 06:00:00+00:00   2230.3070   2551.1950   2172.4860   2450.4930    82.366967        347.0   2454.461260\n",
      "        2025-03-03 06:00:00+00:00   2449.5135   2449.5135   2352.9300   2375.5150     0.894095          7.0   2395.631942\n",
      "\n",
      "[2190 rows x 7 columns]\n"
     ]
    }
   ],
   "source": [
    "from alpaca.data.historical import CryptoHistoricalDataClient\n",
    "from alpaca.data.requests import CryptoBarsRequest\n",
    "from alpaca.data.timeframe import TimeFrame\n",
    "from datetime import datetime, timedelta\n",
    "import pandas as pd\n",
    "\n",
    "# no keys required for crypto data\n",
    "client = CryptoHistoricalDataClient()\n",
    "\n",
    "years_back = 3 #Fetch 3 years of data\n",
    "start_date = datetime.today() - timedelta(days=365 * years_back)\n",
    "end_date = datetime.today()\n",
    "\n",
    "\n",
    "request_params = CryptoBarsRequest(\n",
    "                        symbol_or_symbols=[\"BTC/USD\", \"ETH/USD\"],\n",
    "                        timeframe=TimeFrame.Day, # Use TimeFrame.Minute for high-frequency trading\n",
    "                        start=start_date,\n",
    "                        end=end_date\n",
    "                 )\n",
    "\n",
    "bars = client.get_crypto_bars(request_params)\n",
    "\n",
    "# Covert to DataFrame\n",
    "df = bars.df\n",
    "\n",
    "pd.set_option('display.width', 200)  # Set a large width\n",
    "pd.set_option('display.max_columns', None)  # Show all columns\n",
    "pd.set_option('display.expand_frame_repr', False)  # Prevent line wrapping\n",
    "\n",
    "# convert to dataframe\n",
    "print(df)\n",
    "\n",
    "# access bars as list - important to note that you must access by symbol key\n",
    "# even for a single symbol request - models are agnostic to number of symbols\n",
    "# bars[\"BTC/USD\"]"
   ]
  },
  {
   "cell_type": "markdown",
   "metadata": {},
   "source": [
    "## Format Timestamp"
   ]
  },
  {
   "cell_type": "code",
   "execution_count": null,
   "metadata": {},
   "outputs": [
    {
     "name": "stdout",
     "output_type": "stream",
     "text": [
      "                                   open        high         low       close       volume  trade_count          vwap\n",
      "symbol  timestamp                                                                                                  \n",
      "BTC/USD 2022-03-05 06:00:00  39019.5500  39720.3800  38816.7400  39505.8000   400.495882      27821.0  39299.400637\n",
      "        2022-03-06 06:00:00  39506.4900  39619.9800  37577.6200  38028.5200   661.143065      36339.0  38553.880344\n",
      "        2022-03-07 06:00:00  38025.8100  39552.3100  37166.0100  38363.4100  1052.591573      43036.0  38373.199810\n",
      "        2022-03-08 06:00:00  38358.4900  41883.5800  38008.2700  41514.1800  1252.461647      43940.0  39553.524410\n",
      "        2022-03-09 06:00:00  41521.5300  42590.0800  38900.0000  39219.0800  1364.981479      43231.0  41404.787303\n",
      "...                                 ...         ...         ...         ...          ...          ...           ...\n",
      "ETH/USD 2025-02-27 06:00:00   2338.0250   2379.0000   2093.9500   2129.5105    62.257833        211.0   2225.616095\n",
      "        2025-02-28 06:00:00   2128.6800   2280.0815   2074.8045   2255.6650    96.583625        262.0   2156.309712\n",
      "        2025-03-01 06:00:00   2255.3150   2258.5330   2142.3750   2229.0575    58.233475         93.0   2199.866199\n",
      "        2025-03-02 06:00:00   2230.3070   2551.1950   2172.4860   2450.4930    82.366967        347.0   2454.461260\n",
      "        2025-03-03 06:00:00   2449.5135   2449.5135   2352.9300   2375.5150     0.894095          7.0   2395.631942\n",
      "\n",
      "[2190 rows x 7 columns]\n"
     ]
    }
   ],
   "source": [
    "import pandas as pd\n",
    "\n",
    "# Assuming 'df' is your DataFrame with the provided data\n",
    "# Convert 'timestamp' level to datetime\n",
    "df.index = pd.MultiIndex.from_arrays([\n",
    "    df.index.get_level_values('symbol'),\n",
    "    pd.to_datetime(df.index.get_level_values('timestamp'))\n",
    "], names=['symbol', 'timestamp'])\n",
    "\n",
    "# Remove the timezone \n",
    "df.index = pd.MultiIndex.from_arrays([\n",
    "    df.index.get_level_values('symbol'),\n",
    "    df.index.get_level_values('timestamp').tz_localize(None)\n",
    "], names=['symbol', 'timestamp'])\n",
    "\n",
    "# Display the updated DataFrame\n",
    "print(df)\n"
   ]
  },
  {
   "cell_type": "code",
   "execution_count": null,
   "metadata": {},
   "outputs": [],
   "source": []
  }
 ],
 "metadata": {
  "kernelspec": {
   "display_name": "vwap_env",
   "language": "python",
   "name": "python3"
  },
  "language_info": {
   "codemirror_mode": {
    "name": "ipython",
    "version": 3
   },
   "file_extension": ".py",
   "mimetype": "text/x-python",
   "name": "python",
   "nbconvert_exporter": "python",
   "pygments_lexer": "ipython3",
   "version": "3.10.0"
  }
 },
 "nbformat": 4,
 "nbformat_minor": 2
}
