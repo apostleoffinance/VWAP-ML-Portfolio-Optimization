{
 "cells": [
  {
   "cell_type": "code",
   "execution_count": 1,
   "metadata": {},
   "outputs": [
    {
     "name": "stdout",
     "output_type": "stream",
     "text": [
      "                                       open      high       low     close  \\\n",
      "symbol  timestamp                                                           \n",
      "BTC/USD 2022-07-01 05:00:00+00:00  19374.83  19764.83  18940.00  19170.27   \n",
      "        2022-07-02 05:00:00+00:00  19170.90  19441.90  18752.98  19231.67   \n",
      "        2022-07-03 05:00:00+00:00  19233.40  19625.32  18911.68  19102.36   \n",
      "        2022-07-04 05:00:00+00:00  19101.41  20450.89  19057.69  20251.12   \n",
      "        2022-07-05 05:00:00+00:00  20252.86  20728.50  19281.37  20075.94   \n",
      "...                                     ...       ...       ...       ...   \n",
      "ETH/USD 2022-08-27 05:00:00+00:00   1493.48   1511.79   1448.00   1487.49   \n",
      "        2022-08-28 05:00:00+00:00   1487.26   1504.06   1422.62   1449.34   \n",
      "        2022-08-29 05:00:00+00:00   1449.72   1585.87   1439.38   1582.42   \n",
      "        2022-08-30 05:00:00+00:00   1581.71   1619.18   1473.86   1606.47   \n",
      "        2022-08-31 05:00:00+00:00   1606.00   1615.20   1528.38   1551.61   \n",
      "\n",
      "                                         volume  trade_count          vwap  \n",
      "symbol  timestamp                                                           \n",
      "BTC/USD 2022-07-01 05:00:00+00:00   7521.574449     118377.0  19343.742855  \n",
      "        2022-07-02 05:00:00+00:00   3459.369133      64323.0  19210.319819  \n",
      "        2022-07-03 05:00:00+00:00   3478.188482     101957.0  19162.303866  \n",
      "        2022-07-04 05:00:00+00:00   7282.259882     242199.0  19844.761944  \n",
      "        2022-07-05 05:00:00+00:00   9527.917398     283740.0  19943.877909  \n",
      "...                                         ...          ...           ...  \n",
      "ETH/USD 2022-08-27 05:00:00+00:00  42747.302610      35194.0   1485.111022  \n",
      "        2022-08-28 05:00:00+00:00  33260.757210      30611.0   1466.512520  \n",
      "        2022-08-29 05:00:00+00:00  32337.384620      32339.0   1519.419735  \n",
      "        2022-08-30 05:00:00+00:00  42796.609810      47908.0   1550.528583  \n",
      "        2022-08-31 05:00:00+00:00  27012.961130      27417.0   1569.038958  \n",
      "\n",
      "[124 rows x 7 columns]\n"
     ]
    }
   ],
   "source": [
    "from alpaca.data.historical import CryptoHistoricalDataClient\n",
    "from alpaca.data.requests import CryptoBarsRequest\n",
    "from alpaca.data.timeframe import TimeFrame\n",
    "from datetime import datetime\n",
    "\n",
    "# no keys required for crypto data\n",
    "client = CryptoHistoricalDataClient()\n",
    "\n",
    "request_params = CryptoBarsRequest(\n",
    "                        symbol_or_symbols=[\"BTC/USD\", \"ETH/USD\"],\n",
    "                        timeframe=TimeFrame.Day,\n",
    "                        start=datetime(2022, 7, 1),\n",
    "                        end=datetime(2022, 9, 1)\n",
    "                 )\n",
    "\n",
    "bars = client.get_crypto_bars(request_params)\n",
    "\n",
    "# convert to dataframe\n",
    "print(bars.df)\n",
    "\n",
    "# access bars as list - important to note that you must access by symbol key\n",
    "# even for a single symbol request - models are agnostic to number of symbols\n",
    "# bars[\"BTC/USD\"]"
   ]
  },
  {
   "cell_type": "code",
   "execution_count": null,
   "metadata": {},
   "outputs": [],
   "source": [
    "\n",
    "\n"
   ]
  }
 ],
 "metadata": {
  "kernelspec": {
   "display_name": "vwap_env",
   "language": "python",
   "name": "python3"
  },
  "language_info": {
   "codemirror_mode": {
    "name": "ipython",
    "version": 3
   },
   "file_extension": ".py",
   "mimetype": "text/x-python",
   "name": "python",
   "nbconvert_exporter": "python",
   "pygments_lexer": "ipython3",
   "version": "3.10.0"
  }
 },
 "nbformat": 4,
 "nbformat_minor": 2
}
