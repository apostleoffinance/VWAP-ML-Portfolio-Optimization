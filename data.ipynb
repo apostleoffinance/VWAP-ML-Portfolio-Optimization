{
 "cells": [
  {
   "cell_type": "code",
   "execution_count": 6,
   "metadata": {},
   "outputs": [
    {
     "name": "stdout",
     "output_type": "stream",
     "text": [
      "                                        open        high           low       close       volume  trade_count          vwap\n",
      "symbol  timestamp                                                                                                         \n",
      "BTC/USD 2022-02-28 06:00:00+00:00  37852.380  44259.4100  37475.030000  43229.1500  1412.459176      54487.0  41250.444978\n",
      "        2022-03-01 06:00:00+00:00  43224.420  45000.0000  42815.840000  44283.3600  1122.467779      47416.0  43976.369880\n",
      "        2022-03-02 06:00:00+00:00  44302.030  45321.4200  43236.530000  43351.8700   844.934097      41891.0  44117.907772\n",
      "        2022-03-03 06:00:00+00:00  43343.070  44103.6200  41071.000000  41381.6400   987.526989      45631.0  42387.191245\n",
      "        2022-03-04 06:00:00+00:00  41379.200  41907.2100  38568.180000  39020.9600  1069.260188      42510.0  40173.915678\n",
      "...                                      ...         ...           ...         ...          ...          ...           ...\n",
      "        2025-02-22 06:00:00+00:00  96436.700  96944.9120  96149.200000  96229.9215     0.433629        231.0  96530.421978\n",
      "        2025-02-23 06:00:00+00:00  96192.695  96619.8050  95110.070000  95728.1985     0.492027        141.0  95821.943847\n",
      "        2025-02-24 06:00:00+00:00  95682.399  96263.4400  90876.450000  92031.2760     3.006329        431.0  93593.181584\n",
      "        2025-02-25 06:00:00+00:00  92101.500  92919.0000  85968.862567  88328.2400     9.152374        597.0  88468.093274\n",
      "        2025-02-26 06:00:00+00:00  88379.155  89267.8565  85375.295000  87004.6100     0.725481        174.0  87454.217066\n",
      "\n",
      "[1095 rows x 7 columns]\n"
     ]
    }
   ],
   "source": [
    "from alpaca.data.historical import CryptoHistoricalDataClient\n",
    "from alpaca.data.requests import CryptoBarsRequest\n",
    "from alpaca.data.timeframe import TimeFrame\n",
    "from datetime import datetime, timedelta\n",
    "import pandas as pd\n",
    "\n",
    "# no keys required for crypto data\n",
    "client = CryptoHistoricalDataClient()\n",
    "\n",
    "years_back = 3 #Fetch 3 years of data\n",
    "start_date = datetime.today() - timedelta(days=365 * years_back)\n",
    "end_date = datetime.today()\n",
    "\n",
    "\n",
    "request_params = CryptoBarsRequest(\n",
    "                        symbol_or_symbols=[\"BTC/USD\"],\n",
    "                        timeframe=TimeFrame.Day, # Use TimeFrame.Minute for high-frequency trading\n",
    "                        start=start_date,\n",
    "                        end=end_date\n",
    "                 )\n",
    "\n",
    "bars = client.get_crypto_bars(request_params)\n",
    "\n",
    "# Covert to DataFrame\n",
    "df = bars.df\n",
    "\n",
    "pd.set_option('display.width', 200)  # Set a large width\n",
    "pd.set_option('display.max_columns', None)  # Show all columns\n",
    "pd.set_option('display.expand_frame_repr', False)  # Prevent line wrapping\n",
    "\n",
    "# convert to dataframe\n",
    "print(df)\n",
    "\n",
    "# access bars as list - important to note that you must access by symbol key\n",
    "# even for a single symbol request - models are agnostic to number of symbols\n",
    "# bars[\"BTC/USD\"]"
   ]
  },
  {
   "cell_type": "markdown",
   "metadata": {},
   "source": [
    "## Format Timestamp"
   ]
  },
  {
   "cell_type": "code",
   "execution_count": 16,
   "metadata": {},
   "outputs": [
    {
     "name": "stdout",
     "output_type": "stream",
     "text": [
      "Missing Dates: DatetimeIndex(['2022-02-27 17:40:44.538455', '2022-02-28 17:40:44.538455', '2022-03-01 17:40:44.538455', '2022-03-02 17:40:44.538455', '2022-03-03 17:40:44.538455', '2022-03-04 17:40:44.538455',\n",
      "               '2022-03-05 17:40:44.538455', '2022-03-06 17:40:44.538455', '2022-03-07 17:40:44.538455', '2022-03-08 17:40:44.538455',\n",
      "               ...\n",
      "               '2025-02-17 17:40:44.538455', '2025-02-18 17:40:44.538455', '2025-02-19 17:40:44.538455', '2025-02-20 17:40:44.538455', '2025-02-21 17:40:44.538455', '2025-02-22 17:40:44.538455',\n",
      "               '2025-02-23 17:40:44.538455', '2025-02-24 17:40:44.538455', '2025-02-25 17:40:44.538455', '2025-02-26 17:40:44.538455'],\n",
      "              dtype='datetime64[ns]', length=1096, freq='D')\n",
      "                            symbol       open        high           low       close       volume  trade_count          vwap\n",
      "timestamp                                                                                                                  \n",
      "2022-02-28 06:00:00+00:00  BTC/USD  37852.380  44259.4100  37475.030000  43229.1500  1412.459176      54487.0  41250.444978\n",
      "2022-03-01 06:00:00+00:00  BTC/USD  43224.420  45000.0000  42815.840000  44283.3600  1122.467779      47416.0  43976.369880\n",
      "2022-03-02 06:00:00+00:00  BTC/USD  44302.030  45321.4200  43236.530000  43351.8700   844.934097      41891.0  44117.907772\n",
      "2022-03-03 06:00:00+00:00  BTC/USD  43343.070  44103.6200  41071.000000  41381.6400   987.526989      45631.0  42387.191245\n",
      "2022-03-04 06:00:00+00:00  BTC/USD  41379.200  41907.2100  38568.180000  39020.9600  1069.260188      42510.0  40173.915678\n",
      "...                            ...        ...         ...           ...         ...          ...          ...           ...\n",
      "2025-02-22 06:00:00+00:00  BTC/USD  96436.700  96944.9120  96149.200000  96229.9215     0.433629        231.0  96530.421978\n",
      "2025-02-23 06:00:00+00:00  BTC/USD  96192.695  96619.8050  95110.070000  95728.1985     0.492027        141.0  95821.943847\n",
      "2025-02-24 06:00:00+00:00  BTC/USD  95682.399  96263.4400  90876.450000  92031.2760     3.006329        431.0  93593.181584\n",
      "2025-02-25 06:00:00+00:00  BTC/USD  92101.500  92919.0000  85968.862567  88328.2400     9.152374        597.0  88468.093274\n",
      "2025-02-26 06:00:00+00:00  BTC/USD  88379.155  89267.8565  85375.295000  87004.6100     0.725481        174.0  87454.217066\n",
      "\n",
      "[1095 rows x 8 columns]\n"
     ]
    },
    {
     "name": "stderr",
     "output_type": "stream",
     "text": [
      "/var/folders/9f/dspzp56j3pjcftph22hs9gw40000gn/T/ipykernel_49792/145135840.py:10: FutureWarning: DataFrame.fillna with 'method' is deprecated and will raise in a future version. Use obj.ffill() or obj.bfill() instead.\n",
      "  df = df.asfreq('D').fillna(method='ffill')\n"
     ]
    }
   ],
   "source": [
    "\n",
    "df = df.reset_index()  # This will make timestamp a normal column\n",
    "df['timestamp'] = pd.to_datetime(df['timestamp'])  # Convert column to datetime\n",
    "df.set_index('timestamp', inplace=True)  # Set it back as index\n",
    "\n",
    "# Check for missing dates\n",
    "missing_dates = pd.date_range(start=start_date, end=end_date).difference(df.index)\n",
    "print(\"Missing Dates:\", missing_dates)\n",
    "\n",
    "# Fill missing data if required\n",
    "df = df.asfreq('D').fillna(method='ffill')\n",
    "\n",
    "print(df)\n"
   ]
  },
  {
   "cell_type": "code",
   "execution_count": null,
   "metadata": {},
   "outputs": [],
   "source": []
  }
 ],
 "metadata": {
  "kernelspec": {
   "display_name": "vwap_env",
   "language": "python",
   "name": "python3"
  },
  "language_info": {
   "codemirror_mode": {
    "name": "ipython",
    "version": 3
   },
   "file_extension": ".py",
   "mimetype": "text/x-python",
   "name": "python",
   "nbconvert_exporter": "python",
   "pygments_lexer": "ipython3",
   "version": "3.10.0"
  }
 },
 "nbformat": 4,
 "nbformat_minor": 2
}
