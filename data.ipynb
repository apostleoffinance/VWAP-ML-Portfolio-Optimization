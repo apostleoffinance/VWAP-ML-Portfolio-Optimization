{
 "cells": [
  {
   "cell_type": "code",
   "execution_count": 9,
   "metadata": {},
   "outputs": [
    {
     "name": "stdout",
     "output_type": "stream",
     "text": [
      "                                        open          high         low       close       volume  trade_count          vwap\n",
      "symbol  timestamp                                                                                                         \n",
      "BTC/USD 2022-03-03 06:00:00+00:00  43343.070  44103.620000  41071.0000  41381.6400   987.526989      45631.0  42387.191245\n",
      "        2022-03-04 06:00:00+00:00  41379.200  41907.210000  38568.1800  39020.9600  1069.260188      42510.0  40173.915678\n",
      "        2022-03-05 06:00:00+00:00  39019.550  39720.380000  38816.7400  39505.8000   400.495882      27821.0  39299.400637\n",
      "        2022-03-06 06:00:00+00:00  39506.490  39619.980000  37577.6200  38028.5200   661.143065      36339.0  38553.880344\n",
      "        2022-03-07 06:00:00+00:00  38025.810  39552.310000  37166.0100  38363.4100  1052.591573      43036.0  38373.199810\n",
      "...                                      ...           ...         ...         ...          ...          ...           ...\n",
      "ETH/USD 2025-02-25 06:00:00+00:00   2506.553   2642.580893   2325.8830   2473.4400    68.405079        432.0   2417.601467\n",
      "        2025-02-26 06:00:00+00:00   2474.400   2504.130000   2253.0850   2339.3000    64.596567        192.0   2354.274941\n",
      "        2025-02-27 06:00:00+00:00   2338.025   2379.000000   2093.9500   2129.5105    62.257833        211.0   2225.616095\n",
      "        2025-02-28 06:00:00+00:00   2128.680   2280.081500   2074.8045   2255.6650    96.583625        262.0   2156.309712\n",
      "        2025-03-01 06:00:00+00:00   2255.315   2258.533000   2142.3750   2159.1920    26.255700         27.0   2191.026462\n",
      "\n",
      "[2190 rows x 7 columns]\n"
     ]
    }
   ],
   "source": [
    "from alpaca.data.historical import CryptoHistoricalDataClient\n",
    "from alpaca.data.requests import CryptoBarsRequest\n",
    "from alpaca.data.timeframe import TimeFrame\n",
    "from datetime import datetime, timedelta\n",
    "import pandas as pd\n",
    "\n",
    "# no keys required for crypto data\n",
    "client = CryptoHistoricalDataClient()\n",
    "\n",
    "years_back = 3 #Fetch 3 years of data\n",
    "start_date = datetime.today() - timedelta(days=365 * years_back)\n",
    "end_date = datetime.today()\n",
    "\n",
    "\n",
    "request_params = CryptoBarsRequest(\n",
    "                        symbol_or_symbols=[\"BTC/USD\", \"ETH/USD\"],\n",
    "                        timeframe=TimeFrame.Day, # Use TimeFrame.Minute for high-frequency trading\n",
    "                        start=start_date,\n",
    "                        end=end_date\n",
    "                 )\n",
    "\n",
    "bars = client.get_crypto_bars(request_params)\n",
    "\n",
    "# Covert to DataFrame\n",
    "df = bars.df\n",
    "\n",
    "pd.set_option('display.width', 200)  # Set a large width\n",
    "pd.set_option('display.max_columns', None)  # Show all columns\n",
    "pd.set_option('display.expand_frame_repr', False)  # Prevent line wrapping\n",
    "\n",
    "# convert to dataframe\n",
    "print(df)\n",
    "\n",
    "# access bars as list - important to note that you must access by symbol key\n",
    "# even for a single symbol request - models are agnostic to number of symbols\n",
    "# bars[\"BTC/USD\"]"
   ]
  },
  {
   "cell_type": "markdown",
   "metadata": {},
   "source": [
    "## Format Timestamp"
   ]
  },
  {
   "cell_type": "code",
   "execution_count": 10,
   "metadata": {},
   "outputs": [
    {
     "name": "stdout",
     "output_type": "stream",
     "text": [
      "Missing Dates: DatetimeIndex(['2022-03-14 06:00:00+00:00', '2022-03-15 06:00:00+00:00', '2022-03-16 06:00:00+00:00', '2022-03-17 06:00:00+00:00', '2022-03-18 06:00:00+00:00', '2022-03-19 06:00:00+00:00',\n",
      "               '2022-03-20 06:00:00+00:00', '2022-03-21 06:00:00+00:00', '2022-03-22 06:00:00+00:00', '2022-03-23 06:00:00+00:00',\n",
      "               ...\n",
      "               '2024-10-25 06:00:00+00:00', '2024-10-26 06:00:00+00:00', '2024-10-27 06:00:00+00:00', '2024-10-28 06:00:00+00:00', '2024-10-29 06:00:00+00:00', '2024-10-30 06:00:00+00:00',\n",
      "               '2024-10-31 06:00:00+00:00', '2024-11-01 06:00:00+00:00', '2024-11-02 06:00:00+00:00', '2024-11-03 06:00:00+00:00'],\n",
      "              dtype='datetime64[ns, UTC]', length=714, freq=None)\n",
      "                            symbol       open        high           low       close       volume  trade_count          vwap\n",
      "timestamp                                                                                                                  \n",
      "2022-03-03 06:00:00+00:00  BTC/USD  43343.070  44103.6200  41071.000000  41381.6400   987.526989      45631.0  42387.191245\n",
      "2022-03-04 06:00:00+00:00  BTC/USD  41379.200  41907.2100  38568.180000  39020.9600  1069.260188      42510.0  40173.915678\n",
      "2022-03-05 06:00:00+00:00  BTC/USD  39019.550  39720.3800  38816.740000  39505.8000   400.495882      27821.0  39299.400637\n",
      "2022-03-06 06:00:00+00:00  BTC/USD  39506.490  39619.9800  37577.620000  38028.5200   661.143065      36339.0  38553.880344\n",
      "2022-03-07 06:00:00+00:00  BTC/USD  38025.810  39552.3100  37166.010000  38363.4100  1052.591573      43036.0  38373.199810\n",
      "...                            ...        ...         ...           ...         ...          ...          ...           ...\n",
      "2025-02-25 06:00:00+00:00  BTC/USD  92101.500  92919.0000  85968.862567  88328.2400     9.152374        597.0  88468.093274\n",
      "2025-02-26 06:00:00+00:00  BTC/USD  88379.155  89267.8565  82163.305000  85775.9000     3.555275        497.0  85061.458787\n",
      "2025-02-27 06:00:00+00:00  BTC/USD  85763.195  86987.6500  79073.935000  79862.6290    22.609166        463.0  79973.109538\n",
      "2025-02-28 06:00:00+00:00  BTC/USD  79871.111  86542.5090  78187.351000  85583.8455     4.389970        544.0  81188.450558\n",
      "2025-03-01 06:00:00+00:00  BTC/USD  85633.436  85637.7000  84313.605000  84624.9450     0.407259        136.0  84856.746735\n",
      "\n",
      "[1095 rows x 8 columns]\n"
     ]
    }
   ],
   "source": [
    "\n",
    "# df = df.reset_index()  # This will make timestamp a normal column\n",
    "# df['timestamp'] = pd.to_datetime(df['timestamp'])  # Convert column to datetime\n",
    "# df.set_index('timestamp', inplace=True)  # Set it back as index\n",
    "\n",
    "# # Check for missing dates\n",
    "# missing_dates = pd.date_range(start=start_date, end=end_date).difference(df.index)\n",
    "# print(\"Missing Dates:\", missing_dates)\n",
    "\n",
    "# # Fill missing data if required\n",
    "# df = df.asfreq('D').ffill()\n",
    "\n",
    "\n",
    "# print(df)\n",
    "\n",
    "\n",
    "# Reset index if needed\n",
    "df = df.reset_index()\n",
    "\n",
    "# Convert 'timestamp' to datetime if it's not already\n",
    "df['timestamp'] = pd.to_datetime(df['timestamp'])\n",
    "\n",
    "# Remove duplicate timestamps (keep the first occurrence)\n",
    "df = df.drop_duplicates(subset=['timestamp'], keep='first')\n",
    "\n",
    "# Set 'timestamp' as index\n",
    "df.set_index('timestamp', inplace=True)\n",
    "\n",
    "# Ensure the index is sorted\n",
    "df = df.sort_index()\n",
    "\n",
    "# Check for missing dates\n",
    "start_date, end_date = df.index.min(), df.index.max()\n",
    "missing_dates = pd.date_range(start=start_date, end=end_date).difference(df.index)\n",
    "print(\"Missing Dates:\", missing_dates)\n",
    "\n",
    "# Apply asfreq after removing duplicates\n",
    "df = df.asfreq('D').ffill()\n",
    "\n",
    "print(df)\n",
    "\n",
    "\n"
   ]
  },
  {
   "cell_type": "code",
   "execution_count": null,
   "metadata": {},
   "outputs": [],
   "source": []
  }
 ],
 "metadata": {
  "kernelspec": {
   "display_name": "vwap_env",
   "language": "python",
   "name": "python3"
  },
  "language_info": {
   "codemirror_mode": {
    "name": "ipython",
    "version": 3
   },
   "file_extension": ".py",
   "mimetype": "text/x-python",
   "name": "python",
   "nbconvert_exporter": "python",
   "pygments_lexer": "ipython3",
   "version": "3.10.0"
  }
 },
 "nbformat": 4,
 "nbformat_minor": 2
}
