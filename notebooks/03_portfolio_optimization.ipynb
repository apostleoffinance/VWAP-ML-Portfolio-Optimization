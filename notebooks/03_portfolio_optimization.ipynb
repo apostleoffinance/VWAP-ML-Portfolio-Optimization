{
 "cells": [
  {
   "cell_type": "code",
   "execution_count": 318,
   "metadata": {},
   "outputs": [
    {
     "name": "stdout",
     "output_type": "stream",
     "text": [
      "       symbol           timestamp       open        high           low       close       volume  trade_count          vwap  signal  supertrend\n",
      "0     BTC/USD 2021-01-01 06:00:00  29255.710  29682.2900  28707.560000  29676.7900   848.874030      29639.0  29316.444625       0         NaN\n",
      "1     BTC/USD 2021-01-02 06:00:00  29678.340  34200.0000  29555.990000  33769.5200  2144.592516      60152.0  31941.412694       0         0.0\n",
      "2     BTC/USD 2021-01-03 06:00:00  33769.520  34812.9300  32300.610000  32908.0200  1838.695433      58725.0  33505.269474       0         0.0\n",
      "3     BTC/USD 2021-01-04 06:00:00  32907.360  33496.0300  27900.000000  30441.5700  2711.189503      69226.0  31267.965121       0         0.0\n",
      "4     BTC/USD 2021-01-05 06:00:00  30461.840  35851.4200  29927.550000  35063.0000  1756.751333      61880.0  33151.367357       0         0.0\n",
      "...       ...                 ...        ...         ...           ...         ...          ...          ...           ...     ...         ...\n",
      "3069  ETH/USD 2025-03-13 05:00:00   1872.600   1919.9550   1822.710049   1890.9865    11.947734         83.0   1875.656062       0        -1.0\n",
      "3070  ETH/USD 2025-03-14 05:00:00   1891.380   1945.6510   1879.990000   1932.6785    35.640946        109.0   1918.708859       0        -1.0\n",
      "3071  ETH/USD 2025-03-15 05:00:00   1933.199   1956.8570   1912.774500   1927.9050    55.173964         66.0   1929.283311      -1        -1.0\n",
      "3072  ETH/USD 2025-03-16 05:00:00   1926.710   1934.9400   1861.740000   1904.4800    37.606987        108.0   1884.121050       0        -1.0\n",
      "3073  ETH/USD 2025-03-17 05:00:00   1903.151   1934.4145   1880.536500   1897.4535    24.378654         21.0   1899.643980      -1        -1.0\n",
      "\n",
      "[3074 rows x 11 columns]\n"
     ]
    }
   ],
   "source": [
    "import pandas as pd\n",
    "import numpy as np\n",
    "import matplotlib.pyplot as plt\n",
    "import seaborn as sns\n",
    "import plotly.express as px\n",
    "import nbformat\n",
    "from pypfopt import EfficientFrontier, risk_models, expected_returns\n",
    "from sklearn.ensemble import RandomForestRegressor\n",
    "from sklearn.model_selection import train_test_split\n",
    "from sklearn.ensemble import GradientBoostingRegressor\n",
    "from sklearn.multioutput import MultiOutputRegressor\n",
    "from sklearn.metrics import mean_squared_error\n",
    "\n",
    "\n",
    "\n",
    "%store -r result_df \n",
    "\n",
    "pd.set_option('display.width', 200)  # Set a large width\n",
    "pd.set_option('display.max_columns', None)  # Show all columns\n",
    "pd.set_option('display.expand_frame_repr', False)  # Prevent line wrapping\n",
    "\n",
    "\n",
    "print(result_df)"
   ]
  },
  {
   "cell_type": "code",
   "execution_count": 319,
   "metadata": {},
   "outputs": [
    {
     "name": "stdout",
     "output_type": "stream",
     "text": [
      "                           timestamp           open           high            low          close         volume    trade_count           vwap       signal   supertrend\n",
      "count                           3074    3074.000000    3074.000000    3074.000000    3074.000000    3074.000000    3074.000000    3074.000000  3074.000000  3072.000000\n",
      "mean   2023-02-08 05:22:31.463890688   23790.896386   24370.805472   23146.163718   23808.263887    9147.158769   39402.684450   23793.423311     0.003904    -0.014323\n",
      "min              2021-01-01 06:00:00     735.290000     745.000000     716.650000     733.650000       0.042559       4.000000     731.807780    -1.000000    -1.000000\n",
      "25%              2022-01-20 06:00:00    2285.510750    2366.112500    2194.150000    2286.269000       8.259423     129.000000    2288.598051    -1.000000    -1.000000\n",
      "50%              2023-02-08 06:00:00   10304.985000   10562.785000    6453.570000   10304.475000    1082.850192   26223.500000   10337.574865     0.000000     0.000000\n",
      "75%              2024-02-27 06:00:00   41532.825000   42415.740000   39617.220000   41555.725875   10947.221175   58315.000000   41463.215311     1.000000     1.000000\n",
      "max              2025-03-17 05:00:00  106816.321000  109379.685000  104218.362283  106855.344500  157322.401571  580821.000000  106708.386342     1.000000     1.000000\n",
      "std                              NaN   26285.580584   26877.713844   25651.995865   26307.854893   17183.253743   53800.128247   26284.058374     0.713396     0.989586\n",
      "symbol         0\n",
      "timestamp      0\n",
      "open           0\n",
      "high           0\n",
      "low            0\n",
      "close          0\n",
      "volume         0\n",
      "trade_count    0\n",
      "vwap           0\n",
      "signal         0\n",
      "supertrend     2\n",
      "dtype: int64\n",
      "symbol                 object\n",
      "timestamp      datetime64[ns]\n",
      "open                  float64\n",
      "high                  float64\n",
      "low                   float64\n",
      "close                 float64\n",
      "volume                float64\n",
      "trade_count           float64\n",
      "vwap                  float64\n",
      "signal                  int64\n",
      "supertrend            float64\n",
      "dtype: object\n"
     ]
    }
   ],
   "source": [
    "print(result_df.describe())\n",
    "\n",
    "print(result_df.isna().sum())\n",
    "\n",
    "print(result_df.dtypes)"
   ]
  },
  {
   "cell_type": "markdown",
   "metadata": {},
   "source": [
    "# Feature Engineering\n",
    "### 3 main inputs needed for the models are\n",
    "### - VWAP-Supertrend signal strength, \n",
    "### - Risk Metrics \n",
    "### - Asset Correlations"
   ]
  },
  {
   "cell_type": "markdown",
   "metadata": {},
   "source": [
    "#### VWAP-Supertrend Signal Strength"
   ]
  },
  {
   "cell_type": "code",
   "execution_count": 320,
   "metadata": {},
   "outputs": [
    {
     "data": {
      "text/html": [
       "<div>\n",
       "<style scoped>\n",
       "    .dataframe tbody tr th:only-of-type {\n",
       "        vertical-align: middle;\n",
       "    }\n",
       "\n",
       "    .dataframe tbody tr th {\n",
       "        vertical-align: top;\n",
       "    }\n",
       "\n",
       "    .dataframe thead th {\n",
       "        text-align: right;\n",
       "    }\n",
       "</style>\n",
       "<table border=\"1\" class=\"dataframe\">\n",
       "  <thead>\n",
       "    <tr style=\"text-align: right;\">\n",
       "      <th>symbol</th>\n",
       "      <th>BTC/USD</th>\n",
       "      <th>ETH/USD</th>\n",
       "    </tr>\n",
       "    <tr>\n",
       "      <th>timestamp</th>\n",
       "      <th></th>\n",
       "      <th></th>\n",
       "    </tr>\n",
       "  </thead>\n",
       "  <tbody>\n",
       "    <tr>\n",
       "      <th>2021-01-01 06:00:00</th>\n",
       "      <td>29676.79</td>\n",
       "      <td>733.65</td>\n",
       "    </tr>\n",
       "    <tr>\n",
       "      <th>2021-01-02 06:00:00</th>\n",
       "      <td>33769.52</td>\n",
       "      <td>786.88</td>\n",
       "    </tr>\n",
       "    <tr>\n",
       "      <th>2021-01-03 06:00:00</th>\n",
       "      <td>32908.02</td>\n",
       "      <td>1086.86</td>\n",
       "    </tr>\n",
       "    <tr>\n",
       "      <th>2021-01-04 06:00:00</th>\n",
       "      <td>30441.57</td>\n",
       "      <td>991.40</td>\n",
       "    </tr>\n",
       "    <tr>\n",
       "      <th>2021-01-05 06:00:00</th>\n",
       "      <td>35063.00</td>\n",
       "      <td>1105.56</td>\n",
       "    </tr>\n",
       "  </tbody>\n",
       "</table>\n",
       "</div>"
      ],
      "text/plain": [
       "symbol                BTC/USD  ETH/USD\n",
       "timestamp                             \n",
       "2021-01-01 06:00:00  29676.79   733.65\n",
       "2021-01-02 06:00:00  33769.52   786.88\n",
       "2021-01-03 06:00:00  32908.02  1086.86\n",
       "2021-01-04 06:00:00  30441.57   991.40\n",
       "2021-01-05 06:00:00  35063.00  1105.56"
      ]
     },
     "execution_count": 320,
     "metadata": {},
     "output_type": "execute_result"
    }
   ],
   "source": [
    "# Data preprocessing\n",
    "result_df['timestamp'] = pd.to_datetime(result_df['timestamp'])\n",
    "result_df = result_df.set_index(['timestamp', 'symbol']).unstack()\n",
    "\n",
    "#Extract close Prices for returns calculation\n",
    "close_prices = result_df['close']\n",
    "close_prices.head()"
   ]
  },
  {
   "cell_type": "code",
   "execution_count": 321,
   "metadata": {},
   "outputs": [],
   "source": [
    "# VWAP-Supertrend Signal Strength\n",
    "signal = result_df['signal']"
   ]
  },
  {
   "cell_type": "markdown",
   "metadata": {},
   "source": [
    "#### Risk Metrics "
   ]
  },
  {
   "cell_type": "code",
   "execution_count": 322,
   "metadata": {},
   "outputs": [
    {
     "data": {
      "text/html": [
       "<div>\n",
       "<style scoped>\n",
       "    .dataframe tbody tr th:only-of-type {\n",
       "        vertical-align: middle;\n",
       "    }\n",
       "\n",
       "    .dataframe tbody tr th {\n",
       "        vertical-align: top;\n",
       "    }\n",
       "\n",
       "    .dataframe thead th {\n",
       "        text-align: right;\n",
       "    }\n",
       "</style>\n",
       "<table border=\"1\" class=\"dataframe\">\n",
       "  <thead>\n",
       "    <tr style=\"text-align: right;\">\n",
       "      <th>symbol</th>\n",
       "      <th>BTC/USD</th>\n",
       "      <th>ETH/USD</th>\n",
       "    </tr>\n",
       "    <tr>\n",
       "      <th>timestamp</th>\n",
       "      <th></th>\n",
       "      <th></th>\n",
       "    </tr>\n",
       "  </thead>\n",
       "  <tbody>\n",
       "    <tr>\n",
       "      <th>2021-01-02 06:00:00</th>\n",
       "      <td>0.137910</td>\n",
       "      <td>0.072555</td>\n",
       "    </tr>\n",
       "    <tr>\n",
       "      <th>2021-01-03 06:00:00</th>\n",
       "      <td>-0.025511</td>\n",
       "      <td>0.381227</td>\n",
       "    </tr>\n",
       "    <tr>\n",
       "      <th>2021-01-04 06:00:00</th>\n",
       "      <td>-0.074950</td>\n",
       "      <td>-0.087831</td>\n",
       "    </tr>\n",
       "    <tr>\n",
       "      <th>2021-01-05 06:00:00</th>\n",
       "      <td>0.151813</td>\n",
       "      <td>0.115150</td>\n",
       "    </tr>\n",
       "    <tr>\n",
       "      <th>2021-01-06 06:00:00</th>\n",
       "      <td>0.069083</td>\n",
       "      <td>0.097082</td>\n",
       "    </tr>\n",
       "  </tbody>\n",
       "</table>\n",
       "</div>"
      ],
      "text/plain": [
       "symbol                BTC/USD   ETH/USD\n",
       "timestamp                              \n",
       "2021-01-02 06:00:00  0.137910  0.072555\n",
       "2021-01-03 06:00:00 -0.025511  0.381227\n",
       "2021-01-04 06:00:00 -0.074950 -0.087831\n",
       "2021-01-05 06:00:00  0.151813  0.115150\n",
       "2021-01-06 06:00:00  0.069083  0.097082"
      ]
     },
     "execution_count": 322,
     "metadata": {},
     "output_type": "execute_result"
    }
   ],
   "source": [
    "# Calulate daily returns\n",
    "returns = close_prices.pct_change().dropna()\n",
    "\n",
    "# Volatility (e.g 30-day rolling standard deviation)\n",
    "volatility = returns.rolling(window=30).std()\n",
    "\n",
    "#Drawdown\n",
    "rolling_max = close_prices.cummax()\n",
    "drawdown = (close_prices - rolling_max) / rolling_max\n",
    "max_drawdown = drawdown.rolling(window=30, min_periods=1).min()\n",
    "\n",
    "returns.head()"
   ]
  },
  {
   "cell_type": "markdown",
   "metadata": {},
   "source": [
    "#### Correlation Between Assets\n",
    "Compute the correlation matrix of returns to understand how BTC/USD and ETH/USD move together.\n",
    "\n"
   ]
  },
  {
   "cell_type": "code",
   "execution_count": 323,
   "metadata": {},
   "outputs": [
    {
     "data": {
      "text/html": [
       "<div>\n",
       "<style scoped>\n",
       "    .dataframe tbody tr th:only-of-type {\n",
       "        vertical-align: middle;\n",
       "    }\n",
       "\n",
       "    .dataframe tbody tr th {\n",
       "        vertical-align: top;\n",
       "    }\n",
       "\n",
       "    .dataframe thead th {\n",
       "        text-align: right;\n",
       "    }\n",
       "</style>\n",
       "<table border=\"1\" class=\"dataframe\">\n",
       "  <thead>\n",
       "    <tr style=\"text-align: right;\">\n",
       "      <th>symbol</th>\n",
       "      <th>BTC/USD</th>\n",
       "      <th>ETH/USD</th>\n",
       "    </tr>\n",
       "    <tr>\n",
       "      <th>symbol</th>\n",
       "      <th></th>\n",
       "      <th></th>\n",
       "    </tr>\n",
       "  </thead>\n",
       "  <tbody>\n",
       "    <tr>\n",
       "      <th>BTC/USD</th>\n",
       "      <td>1.000000</td>\n",
       "      <td>0.807342</td>\n",
       "    </tr>\n",
       "    <tr>\n",
       "      <th>ETH/USD</th>\n",
       "      <td>0.807342</td>\n",
       "      <td>1.000000</td>\n",
       "    </tr>\n",
       "  </tbody>\n",
       "</table>\n",
       "</div>"
      ],
      "text/plain": [
       "symbol    BTC/USD   ETH/USD\n",
       "symbol                     \n",
       "BTC/USD  1.000000  0.807342\n",
       "ETH/USD  0.807342  1.000000"
      ]
     },
     "execution_count": 323,
     "metadata": {},
     "output_type": "execute_result"
    }
   ],
   "source": [
    "correlation = returns.corr()\n",
    "correlation"
   ]
  },
  {
   "cell_type": "code",
   "execution_count": 324,
   "metadata": {},
   "outputs": [
    {
     "data": {
      "text/html": [
       "<div>\n",
       "<style scoped>\n",
       "    .dataframe tbody tr th:only-of-type {\n",
       "        vertical-align: middle;\n",
       "    }\n",
       "\n",
       "    .dataframe tbody tr th {\n",
       "        vertical-align: top;\n",
       "    }\n",
       "\n",
       "    .dataframe thead tr th {\n",
       "        text-align: left;\n",
       "    }\n",
       "\n",
       "    .dataframe thead tr:last-of-type th {\n",
       "        text-align: right;\n",
       "    }\n",
       "</style>\n",
       "<table border=\"1\" class=\"dataframe\">\n",
       "  <thead>\n",
       "    <tr>\n",
       "      <th></th>\n",
       "      <th colspan=\"2\" halign=\"left\">open</th>\n",
       "      <th colspan=\"2\" halign=\"left\">high</th>\n",
       "      <th colspan=\"2\" halign=\"left\">low</th>\n",
       "      <th colspan=\"2\" halign=\"left\">close</th>\n",
       "      <th colspan=\"2\" halign=\"left\">volume</th>\n",
       "      <th colspan=\"2\" halign=\"left\">trade_count</th>\n",
       "      <th colspan=\"2\" halign=\"left\">vwap</th>\n",
       "      <th colspan=\"2\" halign=\"left\">signal</th>\n",
       "      <th colspan=\"2\" halign=\"left\">supertrend</th>\n",
       "    </tr>\n",
       "    <tr>\n",
       "      <th>symbol</th>\n",
       "      <th>BTC/USD</th>\n",
       "      <th>ETH/USD</th>\n",
       "      <th>BTC/USD</th>\n",
       "      <th>ETH/USD</th>\n",
       "      <th>BTC/USD</th>\n",
       "      <th>ETH/USD</th>\n",
       "      <th>BTC/USD</th>\n",
       "      <th>ETH/USD</th>\n",
       "      <th>BTC/USD</th>\n",
       "      <th>ETH/USD</th>\n",
       "      <th>BTC/USD</th>\n",
       "      <th>ETH/USD</th>\n",
       "      <th>BTC/USD</th>\n",
       "      <th>ETH/USD</th>\n",
       "      <th>BTC/USD</th>\n",
       "      <th>ETH/USD</th>\n",
       "      <th>BTC/USD</th>\n",
       "      <th>ETH/USD</th>\n",
       "    </tr>\n",
       "    <tr>\n",
       "      <th>timestamp</th>\n",
       "      <th></th>\n",
       "      <th></th>\n",
       "      <th></th>\n",
       "      <th></th>\n",
       "      <th></th>\n",
       "      <th></th>\n",
       "      <th></th>\n",
       "      <th></th>\n",
       "      <th></th>\n",
       "      <th></th>\n",
       "      <th></th>\n",
       "      <th></th>\n",
       "      <th></th>\n",
       "      <th></th>\n",
       "      <th></th>\n",
       "      <th></th>\n",
       "      <th></th>\n",
       "      <th></th>\n",
       "    </tr>\n",
       "  </thead>\n",
       "  <tbody>\n",
       "    <tr>\n",
       "      <th>2021-01-01 06:00:00</th>\n",
       "      <td>29255.71</td>\n",
       "      <td>742.15</td>\n",
       "      <td>29682.29</td>\n",
       "      <td>745.00</td>\n",
       "      <td>28707.56</td>\n",
       "      <td>716.65</td>\n",
       "      <td>29676.79</td>\n",
       "      <td>733.65</td>\n",
       "      <td>848.874030</td>\n",
       "      <td>6534.81013</td>\n",
       "      <td>29639.0</td>\n",
       "      <td>6514.0</td>\n",
       "      <td>29316.444625</td>\n",
       "      <td>731.807780</td>\n",
       "      <td>0</td>\n",
       "      <td>0</td>\n",
       "      <td>NaN</td>\n",
       "      <td>NaN</td>\n",
       "    </tr>\n",
       "    <tr>\n",
       "      <th>2021-01-02 06:00:00</th>\n",
       "      <td>29678.34</td>\n",
       "      <td>735.29</td>\n",
       "      <td>34200.00</td>\n",
       "      <td>791.08</td>\n",
       "      <td>29555.99</td>\n",
       "      <td>725.44</td>\n",
       "      <td>33769.52</td>\n",
       "      <td>786.88</td>\n",
       "      <td>2144.592516</td>\n",
       "      <td>16071.74933</td>\n",
       "      <td>60152.0</td>\n",
       "      <td>15214.0</td>\n",
       "      <td>31941.412694</td>\n",
       "      <td>769.787732</td>\n",
       "      <td>0</td>\n",
       "      <td>0</td>\n",
       "      <td>0.0</td>\n",
       "      <td>0.0</td>\n",
       "    </tr>\n",
       "    <tr>\n",
       "      <th>2021-01-03 06:00:00</th>\n",
       "      <td>33769.52</td>\n",
       "      <td>786.64</td>\n",
       "      <td>34812.93</td>\n",
       "      <td>1098.00</td>\n",
       "      <td>32300.61</td>\n",
       "      <td>784.55</td>\n",
       "      <td>32908.02</td>\n",
       "      <td>1086.86</td>\n",
       "      <td>1838.695433</td>\n",
       "      <td>44039.92386</td>\n",
       "      <td>58725.0</td>\n",
       "      <td>43031.0</td>\n",
       "      <td>33505.269474</td>\n",
       "      <td>942.620484</td>\n",
       "      <td>0</td>\n",
       "      <td>0</td>\n",
       "      <td>0.0</td>\n",
       "      <td>0.0</td>\n",
       "    </tr>\n",
       "    <tr>\n",
       "      <th>2021-01-04 06:00:00</th>\n",
       "      <td>32907.36</td>\n",
       "      <td>1086.86</td>\n",
       "      <td>33496.03</td>\n",
       "      <td>1169.05</td>\n",
       "      <td>27900.00</td>\n",
       "      <td>880.00</td>\n",
       "      <td>30441.57</td>\n",
       "      <td>991.40</td>\n",
       "      <td>2711.189503</td>\n",
       "      <td>50778.44556</td>\n",
       "      <td>69226.0</td>\n",
       "      <td>51353.0</td>\n",
       "      <td>31267.965121</td>\n",
       "      <td>1030.893782</td>\n",
       "      <td>0</td>\n",
       "      <td>0</td>\n",
       "      <td>0.0</td>\n",
       "      <td>0.0</td>\n",
       "    </tr>\n",
       "    <tr>\n",
       "      <th>2021-01-05 06:00:00</th>\n",
       "      <td>30461.84</td>\n",
       "      <td>992.00</td>\n",
       "      <td>35851.42</td>\n",
       "      <td>1138.00</td>\n",
       "      <td>29927.55</td>\n",
       "      <td>980.08</td>\n",
       "      <td>35063.00</td>\n",
       "      <td>1105.56</td>\n",
       "      <td>1756.751333</td>\n",
       "      <td>25283.79028</td>\n",
       "      <td>61880.0</td>\n",
       "      <td>26369.0</td>\n",
       "      <td>33151.367357</td>\n",
       "      <td>1073.661942</td>\n",
       "      <td>0</td>\n",
       "      <td>0</td>\n",
       "      <td>0.0</td>\n",
       "      <td>0.0</td>\n",
       "    </tr>\n",
       "  </tbody>\n",
       "</table>\n",
       "</div>"
      ],
      "text/plain": [
       "                         open               high                low             close                volume              trade_count                   vwap               signal         supertrend        \n",
       "symbol                BTC/USD  ETH/USD   BTC/USD  ETH/USD   BTC/USD ETH/USD   BTC/USD  ETH/USD      BTC/USD      ETH/USD     BTC/USD  ETH/USD       BTC/USD      ETH/USD BTC/USD ETH/USD    BTC/USD ETH/USD\n",
       "timestamp                                                                                                                                                                                                  \n",
       "2021-01-01 06:00:00  29255.71   742.15  29682.29   745.00  28707.56  716.65  29676.79   733.65   848.874030   6534.81013     29639.0   6514.0  29316.444625   731.807780       0       0        NaN     NaN\n",
       "2021-01-02 06:00:00  29678.34   735.29  34200.00   791.08  29555.99  725.44  33769.52   786.88  2144.592516  16071.74933     60152.0  15214.0  31941.412694   769.787732       0       0        0.0     0.0\n",
       "2021-01-03 06:00:00  33769.52   786.64  34812.93  1098.00  32300.61  784.55  32908.02  1086.86  1838.695433  44039.92386     58725.0  43031.0  33505.269474   942.620484       0       0        0.0     0.0\n",
       "2021-01-04 06:00:00  32907.36  1086.86  33496.03  1169.05  27900.00  880.00  30441.57   991.40  2711.189503  50778.44556     69226.0  51353.0  31267.965121  1030.893782       0       0        0.0     0.0\n",
       "2021-01-05 06:00:00  30461.84   992.00  35851.42  1138.00  29927.55  980.08  35063.00  1105.56  1756.751333  25283.79028     61880.0  26369.0  33151.367357  1073.661942       0       0        0.0     0.0"
      ]
     },
     "execution_count": 324,
     "metadata": {},
     "output_type": "execute_result"
    }
   ],
   "source": [
    "result_df.head()"
   ]
  },
  {
   "cell_type": "markdown",
   "metadata": {},
   "source": [
    "# Prepare the Dataset for the Model\n",
    "\n",
    "Combining the features into a single dataframe aligned by timestamp"
   ]
  },
  {
   "cell_type": "code",
   "execution_count": 325,
   "metadata": {},
   "outputs": [
    {
     "data": {
      "text/html": [
       "<div>\n",
       "<style scoped>\n",
       "    .dataframe tbody tr th:only-of-type {\n",
       "        vertical-align: middle;\n",
       "    }\n",
       "\n",
       "    .dataframe tbody tr th {\n",
       "        vertical-align: top;\n",
       "    }\n",
       "\n",
       "    .dataframe thead th {\n",
       "        text-align: right;\n",
       "    }\n",
       "</style>\n",
       "<table border=\"1\" class=\"dataframe\">\n",
       "  <thead>\n",
       "    <tr style=\"text-align: right;\">\n",
       "      <th>symbol</th>\n",
       "      <th>signal_btc</th>\n",
       "      <th>signal_eth</th>\n",
       "      <th>vol_btc</th>\n",
       "      <th>vol_eth</th>\n",
       "      <th>drawdown_btc</th>\n",
       "      <th>drawdown_eth</th>\n",
       "      <th>corr_btc_eth</th>\n",
       "    </tr>\n",
       "    <tr>\n",
       "      <th>timestamp</th>\n",
       "      <th></th>\n",
       "      <th></th>\n",
       "      <th></th>\n",
       "      <th></th>\n",
       "      <th></th>\n",
       "      <th></th>\n",
       "      <th></th>\n",
       "    </tr>\n",
       "  </thead>\n",
       "  <tbody>\n",
       "    <tr>\n",
       "      <th>2021-01-31 06:00:00</th>\n",
       "      <td>0</td>\n",
       "      <td>0</td>\n",
       "      <td>0.062748</td>\n",
       "      <td>0.097499</td>\n",
       "      <td>-0.221947</td>\n",
       "      <td>-0.215613</td>\n",
       "      <td>0.513730</td>\n",
       "    </tr>\n",
       "    <tr>\n",
       "      <th>2021-02-01 06:00:00</th>\n",
       "      <td>0</td>\n",
       "      <td>0</td>\n",
       "      <td>0.057614</td>\n",
       "      <td>0.097210</td>\n",
       "      <td>-0.221947</td>\n",
       "      <td>-0.215613</td>\n",
       "      <td>0.521324</td>\n",
       "    </tr>\n",
       "    <tr>\n",
       "      <th>2021-02-02 06:00:00</th>\n",
       "      <td>0</td>\n",
       "      <td>0</td>\n",
       "      <td>0.058818</td>\n",
       "      <td>0.072247</td>\n",
       "      <td>-0.221947</td>\n",
       "      <td>-0.215613</td>\n",
       "      <td>0.825204</td>\n",
       "    </tr>\n",
       "    <tr>\n",
       "      <th>2021-02-03 06:00:00</th>\n",
       "      <td>1</td>\n",
       "      <td>1</td>\n",
       "      <td>0.056998</td>\n",
       "      <td>0.070358</td>\n",
       "      <td>-0.221947</td>\n",
       "      <td>-0.215613</td>\n",
       "      <td>0.812366</td>\n",
       "    </tr>\n",
       "    <tr>\n",
       "      <th>2021-02-04 06:00:00</th>\n",
       "      <td>0</td>\n",
       "      <td>1</td>\n",
       "      <td>0.050286</td>\n",
       "      <td>0.068249</td>\n",
       "      <td>-0.221947</td>\n",
       "      <td>-0.215613</td>\n",
       "      <td>0.812747</td>\n",
       "    </tr>\n",
       "  </tbody>\n",
       "</table>\n",
       "</div>"
      ],
      "text/plain": [
       "symbol               signal_btc  signal_eth   vol_btc   vol_eth  drawdown_btc  drawdown_eth  corr_btc_eth\n",
       "timestamp                                                                                                \n",
       "2021-01-31 06:00:00           0           0  0.062748  0.097499     -0.221947     -0.215613      0.513730\n",
       "2021-02-01 06:00:00           0           0  0.057614  0.097210     -0.221947     -0.215613      0.521324\n",
       "2021-02-02 06:00:00           0           0  0.058818  0.072247     -0.221947     -0.215613      0.825204\n",
       "2021-02-03 06:00:00           1           1  0.056998  0.070358     -0.221947     -0.215613      0.812366\n",
       "2021-02-04 06:00:00           0           1  0.050286  0.068249     -0.221947     -0.215613      0.812747"
      ]
     },
     "execution_count": 325,
     "metadata": {},
     "output_type": "execute_result"
    }
   ],
   "source": [
    "# combine features\n",
    "features_df = pd.concat([\n",
    "    signal.rename(columns={'BTC/USD': 'signal_btc', 'ETH/USD': 'signal_eth'}),\n",
    "    volatility.rename(columns={'BTC/USD': 'vol_btc', 'ETH/USD': 'vol_eth'}),\n",
    "    max_drawdown.rename(columns={'BTC/USD': 'drawdown_btc', 'ETH/USD': 'drawdown_eth'})\n",
    "], axis=1).dropna()\n",
    "\n",
    "# Add correlation as a feature (single value per timestamp)\n",
    "features_df['corr_btc_eth'] = returns['BTC/USD'].rolling(window=30).corr(returns['ETH/USD'])\n",
    "features_df.head()"
   ]
  },
  {
   "cell_type": "markdown",
   "metadata": {},
   "source": [
    "# Defining the Target (Portfolio Weights)\n",
    "\n",
    "The goal is to allocate capital (weights) across assets. \n",
    "\n",
    "Using pyportfolioopt to generate target weights"
   ]
  },
  {
   "cell_type": "code",
   "execution_count": 326,
   "metadata": {},
   "outputs": [
    {
     "data": {
      "text/html": [
       "<div>\n",
       "<style scoped>\n",
       "    .dataframe tbody tr th:only-of-type {\n",
       "        vertical-align: middle;\n",
       "    }\n",
       "\n",
       "    .dataframe tbody tr th {\n",
       "        vertical-align: top;\n",
       "    }\n",
       "\n",
       "    .dataframe thead th {\n",
       "        text-align: right;\n",
       "    }\n",
       "</style>\n",
       "<table border=\"1\" class=\"dataframe\">\n",
       "  <thead>\n",
       "    <tr style=\"text-align: right;\">\n",
       "      <th>symbol</th>\n",
       "      <th>BTC/USD</th>\n",
       "      <th>ETH/USD</th>\n",
       "    </tr>\n",
       "    <tr>\n",
       "      <th>timestamp</th>\n",
       "      <th></th>\n",
       "      <th></th>\n",
       "    </tr>\n",
       "  </thead>\n",
       "  <tbody>\n",
       "    <tr>\n",
       "      <th>2022-01-01 06:00:00</th>\n",
       "      <td>0.0</td>\n",
       "      <td>1.0</td>\n",
       "    </tr>\n",
       "    <tr>\n",
       "      <th>2022-01-02 06:00:00</th>\n",
       "      <td>0.0</td>\n",
       "      <td>1.0</td>\n",
       "    </tr>\n",
       "    <tr>\n",
       "      <th>2022-01-03 06:00:00</th>\n",
       "      <td>0.0</td>\n",
       "      <td>1.0</td>\n",
       "    </tr>\n",
       "    <tr>\n",
       "      <th>2022-01-04 06:00:00</th>\n",
       "      <td>0.0</td>\n",
       "      <td>1.0</td>\n",
       "    </tr>\n",
       "    <tr>\n",
       "      <th>2022-01-05 06:00:00</th>\n",
       "      <td>0.0</td>\n",
       "      <td>1.0</td>\n",
       "    </tr>\n",
       "  </tbody>\n",
       "</table>\n",
       "</div>"
      ],
      "text/plain": [
       "symbol              BTC/USD ETH/USD\n",
       "timestamp                          \n",
       "2022-01-01 06:00:00     0.0     1.0\n",
       "2022-01-02 06:00:00     0.0     1.0\n",
       "2022-01-03 06:00:00     0.0     1.0\n",
       "2022-01-04 06:00:00     0.0     1.0\n",
       "2022-01-05 06:00:00     0.0     1.0"
      ]
     },
     "execution_count": 326,
     "metadata": {},
     "output_type": "execute_result"
    }
   ],
   "source": [
    "# Initialize a DataFrame to store target weights (same index as close_prices)\n",
    "target_weights = pd.DataFrame(index=close_prices.index, columns=close_prices.columns)\n",
    "\n",
    "#Parameters\n",
    "lookback = 365 # lookback window (365 trading days for 1 year)\n",
    "# Loop through each timestamp (skip the first `lookback` days)\n",
    "for i in range(lookback, len(close_prices)):\n",
    "    historical_data = close_prices.iloc[i - lookback : i]\n",
    "\n",
    "    # Calculate expected returns and covariance matrix\n",
    "    mu = expected_returns.mean_historical_return(historical_data)\n",
    "    S = risk_models.sample_cov(historical_data)\n",
    "\n",
    "    # Optimize for maximum Sharpe ratio\n",
    "    ef = EfficientFrontier(mu, S)\n",
    "    try:\n",
    "        ef.max_sharpe()\n",
    "        weights = ef.clean_weights()\n",
    "    except:\n",
    "        #Handle optimization failures (e.g, singular matrix)\n",
    "        weights = {asset: 0 for asset in historical_data.columns}\n",
    "\n",
    "    # Store weights with the current timestamp\n",
    "    target_weights.iloc[i] = weights\n",
    "\n",
    "# Drop rows with NaN (first 'lookback' days)\n",
    "target_weights = target_weights.dropna()\n",
    "    \n",
    "\n",
    "\"\"\"This approach ensures your model learns to predict weights that \n",
    "are grounded in realistic, time-dependent portfolio optimization.\"\"\"\n",
    "\n",
    "\n",
    "target_weights.head()\n"
   ]
  },
  {
   "cell_type": "markdown",
   "metadata": {},
   "source": [
    "# Train the Machine Learning Model\n",
    "\n",
    "Using Random Forest and Gradient Boosting to predict weights based on features"
   ]
  },
  {
   "cell_type": "markdown",
   "metadata": {},
   "source": [
    "### Align Features (X) and Target (y)\n",
    "\n",
    "Ensuring that features_df and target_weights share the same timestamp"
   ]
  },
  {
   "cell_type": "code",
   "execution_count": 327,
   "metadata": {},
   "outputs": [],
   "source": [
    "# Prepare X (features) and y (target weights)\n",
    "X = features_df\n",
    "y = target_weights\n",
    "\n",
    "\n",
    "\n",
    "common_index = X.index.intersection(y.index)\n",
    "X = features_df.loc[common_index]\n",
    "y = target_weights.loc[common_index]\n",
    "\n",
    "# Proceed with train-test split\n",
    "X_train, X_test, y_train, y_test = train_test_split(X, y, test_size=0.2, random_state=42)\n",
    "\n"
   ]
  },
  {
   "cell_type": "markdown",
   "metadata": {},
   "source": [
    "### Train Random Forest"
   ]
  },
  {
   "cell_type": "code",
   "execution_count": 328,
   "metadata": {},
   "outputs": [
    {
     "name": "stdout",
     "output_type": "stream",
     "text": [
      "Train R^2: 0.9945, Test R^2: 0.9722\n"
     ]
    }
   ],
   "source": [
    "\n",
    "# Train Random Forest\n",
    "model = RandomForestRegressor(n_estimators=100, random_state=42)\n",
    "model.fit(X_train, y_train)\n",
    "\n",
    "# Evaluate\n",
    "train_score = model.score(X_train, y_train)\n",
    "test_score = model.score(X_test, y_test)\n",
    "print(f\"Train R^2: {train_score:.4f}, Test R^2: {test_score:.4f}\")\n",
    "\n"
   ]
  },
  {
   "cell_type": "markdown",
   "metadata": {},
   "source": [
    "### Train GradientBoosting using MultiOutputRegressor"
   ]
  },
  {
   "cell_type": "code",
   "execution_count": 329,
   "metadata": {},
   "outputs": [
    {
     "name": "stdout",
     "output_type": "stream",
     "text": [
      "Train R^2: 0.9854, Test R^2: 0.9503\n"
     ]
    }
   ],
   "source": [
    "# Train GradientBoosting \n",
    "gb = GradientBoostingRegressor(n_estimators=100, learning_rate=0.1, max_depth=3, random_state=42)\n",
    "multi_model = MultiOutputRegressor(gb)\n",
    "multi_model.fit(X_train, y_train)  \n",
    "\n",
    "# Evaluate\n",
    "train_score_m = multi_model.score(X_train, y_train)\n",
    "test_score_m = multi_model.score(X_test, y_test)\n",
    "print(f\"Train R^2: {train_score_m:.4f}, Test R^2: {test_score_m:.4f}\")\n"
   ]
  },
  {
   "cell_type": "markdown",
   "metadata": {},
   "source": [
    "# Predict and Allocate capital\n",
    "Using the trained model to predict portfolio weights for new data\n",
    "Would be using RandomForest Trained Model for our prediction"
   ]
  },
  {
   "cell_type": "code",
   "execution_count": null,
   "metadata": {},
   "outputs": [
    {
     "name": "stdout",
     "output_type": "stream",
     "text": [
      "predicted_weights: {'BTC/USD': 1.0, 'ETH/USD': 0.0}\n"
     ]
    }
   ],
   "source": [
    "# Predict weights for the latest data using randomforest\n",
    "latest_features = features_df.tail(1)\n",
    "predicted_weights = model.predict(latest_features)\n",
    "weights_dict = dict(zip(close_prices.columns, predicted_weights[0]))\n",
    "print(\"predicted_weights:\", weights_dict)"
   ]
  },
  {
   "cell_type": "code",
   "execution_count": 331,
   "metadata": {},
   "outputs": [
    {
     "name": "stdout",
     "output_type": "stream",
     "text": [
      "predicted_weights_n: {'BTC/USD': 1.0047752325481496, 'ETH/USD': 0.0032864707073073486}\n"
     ]
    }
   ],
   "source": [
    "# Predict weights for the latest data\n",
    "latest_features_n = features_df.tail(1)\n",
    "predicted_weights_n = multi_model.predict(latest_features_n)\n",
    "weights_dict_n = dict(zip(close_prices.columns, predicted_weights_n[0]))\n",
    "print(\"predicted_weights_n:\", weights_dict_n)"
   ]
  },
  {
   "cell_type": "markdown",
   "metadata": {},
   "source": [
    "# Feature Importance (Gradient Boosting Specific)"
   ]
  },
  {
   "cell_type": "code",
   "execution_count": 332,
   "metadata": {},
   "outputs": [
    {
     "data": {
      "image/png": "[encoded data removed]",
      "text/plain": [
       "<Figure size 640x480 with 1 Axes>"
      ]
     },
     "metadata": {},
     "output_type": "display_data"
    }
   ],
   "source": [
    "\n",
    "\n",
    "feature_importance = np.mean([est.feature_importances_ for est in multi_model.estimators_], axis=0)\n",
    "\n",
    "sorted_idx = np.argsort(feature_importance)\n",
    "plt.barh(X_train.columns[sorted_idx], feature_importance[sorted_idx])\n",
    "plt.xlabel(\"Feature Importance\")\n",
    "plt.title(\"Feature Importance from Gradient Boosting\")\n",
    "plt.show()"
   ]
  },
  {
   "cell_type": "markdown",
   "metadata": {},
   "source": [
    "#"
   ]
  },
  {
   "cell_type": "code",
   "execution_count": null,
   "metadata": {},
   "outputs": [],
   "source": []
  },
  {
   "cell_type": "code",
   "execution_count": null,
   "metadata": {},
   "outputs": [],
   "source": []
  }
 ],
 "metadata": {
  "kernelspec": {
   "display_name": "vwap_env",
   "language": "python",
   "name": "python3"
  },
  "language_info": {
   "codemirror_mode": {
    "name": "ipython",
    "version": 3
   },
   "file_extension": ".py",
   "mimetype": "text/x-python",
   "name": "python",
   "nbconvert_exporter": "python",
   "pygments_lexer": "ipython3",
   "version": "3.10.0"
  }
 },
 "nbformat": 4,
 "nbformat_minor": 2
}
