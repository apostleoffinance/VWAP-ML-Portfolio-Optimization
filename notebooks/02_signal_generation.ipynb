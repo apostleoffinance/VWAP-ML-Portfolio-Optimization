{
 "cells": [
  {
   "cell_type": "code",
   "execution_count": 3,
   "metadata": {},
   "outputs": [
    {
     "name": "stdout",
     "output_type": "stream",
     "text": [
      "                                   open          high         low       close       volume  trade_count          vwap\n",
      "symbol  timestamp                                                                                                    \n",
      "BTC/USD 2022-03-09 06:00:00  41521.5300  42590.080000  38900.0000  39219.0800  1364.981479      43231.0  41404.787303\n",
      "        2022-03-10 06:00:00  39235.6400  40301.730000  38200.2000  38792.2300  1181.691366      35917.0  39139.215264\n",
      "        2022-03-11 06:00:00  38784.6100  40250.000000  38316.0000  39167.7500   831.507763      30547.0  39192.837122\n",
      "        2022-03-12 06:00:00  39172.7600  39439.780000  38666.6700  39109.3600   301.549334      16474.0  39079.401184\n",
      "        2022-03-13 06:00:00  39126.4600  39198.040000  37572.5100  38520.9900   576.983541      25701.0  38409.369059\n",
      "...                                 ...           ...         ...         ...          ...          ...           ...\n",
      "ETH/USD 2025-03-03 06:00:00   2449.5135   2449.513500   2003.3420   2105.9345   116.066267        292.0   2199.763076\n",
      "        2025-03-04 06:00:00   2105.0785   2269.852217   1994.3040   2178.8730    17.636647        169.0   2098.957587\n",
      "        2025-03-05 06:00:00   2180.5650   2319.030000   2161.8500   2314.2605    29.692276        162.0   2221.953832\n",
      "        2025-03-06 06:00:00   2313.3960   2313.721000   2102.1550   2173.8200    19.079963        131.0   2217.909718\n",
      "        2025-03-07 06:00:00   2175.1000   2210.600000   2165.9745   2178.3400     3.313974         29.0   2186.612350\n",
      "\n",
      "[2190 rows x 7 columns]\n"
     ]
    }
   ],
   "source": [
    "import pandas as pd\n",
    "import numpy as np\n",
    "\n",
    "%store -r df \n",
    "\n",
    "pd.set_option('display.width', 200)  # Set a large width\n",
    "pd.set_option('display.max_columns', None)  # Show all columns\n",
    "pd.set_option('display.expand_frame_repr', False)  # Prevent line wrapping\n",
    "\n",
    "\n",
    "print(df)"
   ]
  },
  {
   "cell_type": "markdown",
   "metadata": {},
   "source": [
    "## VWAP Crossover Trade Signals"
   ]
  },
  {
   "cell_type": "code",
   "execution_count": 4,
   "metadata": {},
   "outputs": [
    {
     "name": "stdout",
     "output_type": "stream",
     "text": [
      "\n",
      "Sample of result with signals:\n",
      "                                close          vwap  signal\n",
      "symbol  timestamp                                          \n",
      "BTC/USD 2022-03-09 06:00:00  39219.08  41404.787303       0\n",
      "        2022-03-10 06:00:00  38792.23  39139.215264       0\n",
      "        2022-03-11 06:00:00  39167.75  39192.837122       0\n",
      "        2022-03-12 06:00:00  39109.36  39079.401184       1\n",
      "        2022-03-13 06:00:00  38520.99  38409.369059       0\n",
      "        2022-03-14 05:00:00  38783.83  39072.780504      -1\n",
      "        2022-03-15 05:00:00  39124.91  39671.189538       0\n",
      "        2022-03-16 05:00:00  41359.77  40457.234853       1\n",
      "        2022-03-17 05:00:00  40642.32  40814.985379      -1\n",
      "        2022-03-18 05:00:00  41825.27  41307.749247       1\n",
      "\n",
      "Signal counts by symbol:\n",
      "symbol   signal\n",
      "BTC/USD   0        504\n",
      "          1        296\n",
      "         -1        295\n",
      "ETH/USD   0        507\n",
      "         -1        294\n",
      "          1        294\n",
      "Name: count, dtype: int64\n"
     ]
    }
   ],
   "source": [
    "def generate_vwap_signals(df):\n",
    "    # Reset index to work with symbol and timestamp as columns\n",
    "    df = df.reset_index()\n",
    "\n",
    "    # Create signals dataframe\n",
    "    signals = pd.DataFrame(index=df.index)\n",
    "    signals['symbol'] = df[\"symbol\"]\n",
    "    signals['timestamp'] = df['timestamp']\n",
    "\n",
    "    # Calculate Previous close and VWAP for crossover detection\n",
    "    signals['close'] = df['close']\n",
    "    signals['vwap'] = df['vwap']\n",
    "    signals['prev_close'] = df['close'].shift(1)\n",
    "    signals['prev_vwap'] = df['vwap'].shift(1)\n",
    "\n",
    "    # Generate signals \n",
    "    # Buy: previous close below previous VWAP and current close above current VWAP\n",
    "    # Sell: previous close above previous VWAP and current close below current VWAP\n",
    "    signals['signal'] = 0 # Default no signal\n",
    "    signals.loc[(signals['prev_close'] < signals['prev_vwap']) &\n",
    "                (signals['close'] > signals['vwap']), 'signal'] = 1 #Buy\n",
    "    signals.loc[(signals['prev_close'] > signals['prev_vwap']) &\n",
    "                (signals['close'] < signals['vwap']), 'signal'] = -1 #Sell\n",
    "    \n",
    "    # Group by symbol to handle each symbol separately\n",
    "    signals['symbol_change'] = signals['symbol'] != signals['symbol'].shift(1)\n",
    "    signals.loc[signals['symbol_change'], ['prev_close', 'prev_vwap']] = np.nan\n",
    "\n",
    "    # Clean up signals at symbol boundaries\n",
    "    signals.loc[signals['symbol_change'], 'signal'] = 0\n",
    "\n",
    "    # Drop temporary columns\n",
    "    signals = signals.drop(['prev_close', 'prev_vwap', 'symbol_change'], axis=1)\n",
    "\n",
    "    # Set index back to symbol and timestamp\n",
    "    signals = signals.set_index(['symbol', 'timestamp'])\n",
    "\n",
    "    return signals\n",
    "\n",
    "# Generate signals\n",
    "signal_df = generate_vwap_signals(df)\n",
    "\n",
    "# Merge signals with original dataframe if needed \n",
    "result_df = df.join(signal_df['signal'])\n",
    "\n",
    "# Display sample of results\n",
    "print(\"\\nSample of result with signals:\")\n",
    "print(result_df[['close', 'vwap', 'signal']].head(10))\n",
    "\n",
    "# Count signals by symbol\n",
    "print(\"\\nSignal counts by symbol:\")\n",
    "print(result_df.groupby('symbol')['signal'].value_counts())\n",
    "\n"
   ]
  },
  {
   "cell_type": "markdown",
   "metadata": {},
   "source": [
    "## Integrate Supertrend for signal confirmation"
   ]
  },
  {
   "cell_type": "markdown",
   "metadata": {},
   "source": []
  }
 ],
 "metadata": {
  "kernelspec": {
   "display_name": "vwap_env",
   "language": "python",
   "name": "python3"
  },
  "language_info": {
   "codemirror_mode": {
    "name": "ipython",
    "version": 3
   },
   "file_extension": ".py",
   "mimetype": "text/x-python",
   "name": "python",
   "nbconvert_exporter": "python",
   "pygments_lexer": "ipython3",
   "version": "3.10.0"
  }
 },
 "nbformat": 4,
 "nbformat_minor": 2
}
