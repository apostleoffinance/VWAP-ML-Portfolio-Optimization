{
 "cells": [
  {
   "cell_type": "code",
   "execution_count": 8,
   "metadata": {},
   "outputs": [
    {
     "name": "stdout",
     "output_type": "stream",
     "text": [
      "                                         open          high        low       close       volume  trade_count          vwap\n",
      "symbol  timestamp                                                                                                         \n",
      "BTC/USD 2021-01-01 06:00:00+00:00  29255.7100  29682.290000  28707.560  29676.7900   848.874030      29639.0  29316.444625\n",
      "        2021-01-02 06:00:00+00:00  29678.3400  34200.000000  29555.990  33769.5200  2144.592516      60152.0  31941.412694\n",
      "        2021-01-03 06:00:00+00:00  33769.5200  34812.930000  32300.610  32908.0200  1838.695433      58725.0  33505.269474\n",
      "        2021-01-04 06:00:00+00:00  32907.3600  33496.030000  27900.000  30441.5700  2711.189503      69226.0  31267.965121\n",
      "        2021-01-05 06:00:00+00:00  30461.8400  35851.420000  29927.550  35063.0000  1756.751333      61880.0  33151.367357\n",
      "...                                       ...           ...        ...         ...          ...          ...           ...\n",
      "ETH/USD 2025-03-03 06:00:00+00:00   2449.5135   2449.513500   2003.342   2105.9345   116.066267        292.0   2199.763076\n",
      "        2025-03-04 06:00:00+00:00   2105.0785   2269.852217   1994.304   2178.8730    17.636647        169.0   2098.957587\n",
      "        2025-03-05 06:00:00+00:00   2180.5650   2319.030000   2161.850   2314.2605    29.692276        162.0   2221.953832\n",
      "        2025-03-06 06:00:00+00:00   2313.3960   2313.721000   2102.155   2173.8200    19.079963        131.0   2217.909718\n",
      "        2025-03-07 06:00:00+00:00   2175.1000   2257.237000   2141.725   2172.9395     7.522856         91.0   2184.154014\n",
      "\n",
      "[3054 rows x 7 columns]\n"
     ]
    }
   ],
   "source": [
    "from alpaca.data.historical import CryptoHistoricalDataClient\n",
    "from alpaca.data.requests import CryptoBarsRequest\n",
    "from alpaca.data.timeframe import TimeFrame\n",
    "from datetime import datetime, timedelta\n",
    "import pandas as pd\n",
    "\n",
    "# no keys required for crypto data\n",
    "client = CryptoHistoricalDataClient()\n",
    "\n",
    "years_back = 5 #Fetch 5 years of data\n",
    "start_date = datetime.today() - timedelta(days=365 * years_back)\n",
    "end_date = datetime.today()\n",
    "\n",
    "\n",
    "request_params = CryptoBarsRequest(\n",
    "                        symbol_or_symbols=[\"BTC/USD\", \"ETH/USD\"],\n",
    "                        timeframe=TimeFrame.Day, # Use TimeFrame.Minute for high-frequency trading\n",
    "                        start=start_date,\n",
    "                        end=end_date\n",
    "                 )\n",
    "\n",
    "bars = client.get_crypto_bars(request_params)\n",
    "\n",
    "# Covert to DataFrame\n",
    "df = bars.df\n",
    "\n",
    "pd.set_option('display.width', 200)  # Set a large width\n",
    "pd.set_option('display.max_columns', None)  # Show all columns\n",
    "pd.set_option('display.expand_frame_repr', False)  # Prevent line wrapping\n",
    "\n",
    "# convert to dataframe\n",
    "print(df)\n"
   ]
  },
  {
   "cell_type": "markdown",
   "metadata": {},
   "source": [
    "## Format Timestamp"
   ]
  },
  {
   "cell_type": "code",
   "execution_count": 9,
   "metadata": {},
   "outputs": [
    {
     "name": "stdout",
     "output_type": "stream",
     "text": [
      "                                   open          high        low       close       volume  trade_count          vwap\n",
      "symbol  timestamp                                                                                                   \n",
      "BTC/USD 2021-01-01 06:00:00  29255.7100  29682.290000  28707.560  29676.7900   848.874030      29639.0  29316.444625\n",
      "        2021-01-02 06:00:00  29678.3400  34200.000000  29555.990  33769.5200  2144.592516      60152.0  31941.412694\n",
      "        2021-01-03 06:00:00  33769.5200  34812.930000  32300.610  32908.0200  1838.695433      58725.0  33505.269474\n",
      "        2021-01-04 06:00:00  32907.3600  33496.030000  27900.000  30441.5700  2711.189503      69226.0  31267.965121\n",
      "        2021-01-05 06:00:00  30461.8400  35851.420000  29927.550  35063.0000  1756.751333      61880.0  33151.367357\n",
      "...                                 ...           ...        ...         ...          ...          ...           ...\n",
      "ETH/USD 2025-03-03 06:00:00   2449.5135   2449.513500   2003.342   2105.9345   116.066267        292.0   2199.763076\n",
      "        2025-03-04 06:00:00   2105.0785   2269.852217   1994.304   2178.8730    17.636647        169.0   2098.957587\n",
      "        2025-03-05 06:00:00   2180.5650   2319.030000   2161.850   2314.2605    29.692276        162.0   2221.953832\n",
      "        2025-03-06 06:00:00   2313.3960   2313.721000   2102.155   2173.8200    19.079963        131.0   2217.909718\n",
      "        2025-03-07 06:00:00   2175.1000   2257.237000   2141.725   2172.9395     7.522856         91.0   2184.154014\n",
      "\n",
      "[3054 rows x 7 columns]\n",
      "Stored 'df' (DataFrame)\n"
     ]
    }
   ],
   "source": [
    "# Assuming 'df' is your DataFrame with the provided data\n",
    "# Convert 'timestamp' level to datetime\n",
    "df.index = pd.MultiIndex.from_arrays([\n",
    "    df.index.get_level_values('symbol'),\n",
    "    pd.to_datetime(df.index.get_level_values('timestamp'))\n",
    "], names=['symbol', 'timestamp'])\n",
    "\n",
    "# Remove the timezone \n",
    "df.index = pd.MultiIndex.from_arrays([\n",
    "    df.index.get_level_values('symbol'),\n",
    "    df.index.get_level_values('timestamp').tz_localize(None)\n",
    "], names=['symbol', 'timestamp'])\n",
    "\n",
    "# Display the updated DataFrame\n",
    "print(df)\n",
    "%store df"
   ]
  },
  {
   "cell_type": "code",
   "execution_count": 10,
   "metadata": {},
   "outputs": [],
   "source": [
    "\n",
    "# def get_data(df):\n",
    "#     \"\"\"\n",
    "#     Converts 'timestamp' level to datetime, removes timezone, and returns the updated DataFrame.\n",
    "    \n",
    "#     Parameters:\n",
    "#         df (pd.DataFrame): Input DataFrame with a MultiIndex of ('symbol', 'timestamp').\n",
    "    \n",
    "#     Returns:\n",
    "#         pd.DataFrame: Updated DataFrame with timestamp as a timezone-naive datetime.\n",
    "#     \"\"\"\n",
    "#     df.index = pd.MultiIndex.from_arrays([\n",
    "#         df.index.get_level_values('symbol'),\n",
    "#         pd.to_datetime(df.index.get_level_values('timestamp'))\n",
    "#     ], names=['symbol', 'timestamp'])\n",
    "\n",
    "#     # Remove the timezone\n",
    "#     df.index = pd.MultiIndex.from_arrays([\n",
    "#         df.index.get_level_values('symbol'),\n",
    "#         df.index.get_level_values('timestamp').tz_localize(None)\n",
    "#     ], names=['symbol', 'timestamp'])\n",
    "    \n",
    "#     return df  # Return the modified DataFrame\n",
    "\n",
    "# # Example Usage:\n",
    "# # df = \n",
    "# get_data(df)\n"
   ]
  }
 ],
 "metadata": {
  "kernelspec": {
   "display_name": "vwap_env",
   "language": "python",
   "name": "python3"
  },
  "language_info": {
   "codemirror_mode": {
    "name": "ipython",
    "version": 3
   },
   "file_extension": ".py",
   "mimetype": "text/x-python",
   "name": "python",
   "nbconvert_exporter": "python",
   "pygments_lexer": "ipython3",
   "version": "3.10.0"
  }
 },
 "nbformat": 4,
 "nbformat_minor": 2
}
