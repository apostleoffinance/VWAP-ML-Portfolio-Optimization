{
 "cells": [
  {
   "cell_type": "code",
   "execution_count": 10,
   "metadata": {},
   "outputs": [
    {
     "name": "stdout",
     "output_type": "stream",
     "text": [
      "                                        open        high           low       close       volume  trade_count          vwap\n",
      "symbol  timestamp                                                                                                         \n",
      "BTC/USD 2021-01-01 06:00:00+00:00  29255.710  29682.2900  28707.560000  29676.7900   848.874030      29639.0  29316.444625\n",
      "        2021-01-02 06:00:00+00:00  29678.340  34200.0000  29555.990000  33769.5200  2144.592516      60152.0  31941.412694\n",
      "        2021-01-03 06:00:00+00:00  33769.520  34812.9300  32300.610000  32908.0200  1838.695433      58725.0  33505.269474\n",
      "        2021-01-04 06:00:00+00:00  32907.360  33496.0300  27900.000000  30441.5700  2711.189503      69226.0  31267.965121\n",
      "        2021-01-05 06:00:00+00:00  30461.840  35851.4200  29927.550000  35063.0000  1756.751333      61880.0  33151.367357\n",
      "...                                      ...         ...           ...         ...          ...          ...           ...\n",
      "ETH/USD 2025-03-13 05:00:00+00:00   1872.600   1919.9550   1822.710049   1890.9865    11.947734         83.0   1875.656062\n",
      "        2025-03-14 05:00:00+00:00   1891.380   1945.6510   1879.990000   1932.6785    35.640946        109.0   1918.708859\n",
      "        2025-03-15 05:00:00+00:00   1933.199   1956.8570   1912.774500   1927.9050    55.173964         66.0   1929.283311\n",
      "        2025-03-16 05:00:00+00:00   1926.710   1934.9400   1861.740000   1904.4800    37.606987        108.0   1884.121050\n",
      "        2025-03-17 05:00:00+00:00   1903.151   1934.4145   1880.536500   1897.4535    24.378654         21.0   1899.643980\n",
      "\n",
      "[3074 rows x 7 columns]\n"
     ]
    }
   ],
   "source": [
    "from alpaca.data.historical import CryptoHistoricalDataClient\n",
    "from alpaca.data.requests import CryptoBarsRequest\n",
    "from alpaca.data.timeframe import TimeFrame\n",
    "from datetime import datetime, timedelta\n",
    "import pandas as pd\n",
    "\n",
    "# no keys required for crypto data\n",
    "client = CryptoHistoricalDataClient()\n",
    "\n",
    "years_back = 5 #Fetch 5 years of data\n",
    "start_date = datetime.today() - timedelta(days=365 * years_back)\n",
    "end_date = datetime.today()\n",
    "\n",
    "\n",
    "request_params = CryptoBarsRequest(\n",
    "                        symbol_or_symbols=[\"BTC/USD\", \"ETH/USD\"],\n",
    "                        timeframe=TimeFrame.Day, # Use TimeFrame.Minute for high-frequency trading                    \n",
    "                        start=start_date,\n",
    "                        end=end_date\n",
    "                 )\n",
    "\n",
    "bars = client.get_crypto_bars(request_params)\n",
    "\n",
    "# Covert to DataFrame\n",
    "df = bars.df\n",
    "\n",
    "pd.set_option('display.width', 200)  # Set a large width\n",
    "pd.set_option('display.max_columns', None)  # Show all columns\n",
    "pd.set_option('display.expand_frame_repr', False)  # Prevent line wrapping\n",
    "\n",
    "# convert to dataframe\n",
    "print(df)\n"
   ]
  },
  {
   "cell_type": "markdown",
   "metadata": {},
   "source": [
    "## Format Timestamp"
   ]
  },
  {
   "cell_type": "code",
   "execution_count": 11,
   "metadata": {},
   "outputs": [
    {
     "name": "stdout",
     "output_type": "stream",
     "text": [
      "                                  open        high           low       close       volume  trade_count          vwap\n",
      "symbol  timestamp                                                                                                   \n",
      "BTC/USD 2021-01-01 06:00:00  29255.710  29682.2900  28707.560000  29676.7900   848.874030      29639.0  29316.444625\n",
      "        2021-01-02 06:00:00  29678.340  34200.0000  29555.990000  33769.5200  2144.592516      60152.0  31941.412694\n",
      "        2021-01-03 06:00:00  33769.520  34812.9300  32300.610000  32908.0200  1838.695433      58725.0  33505.269474\n",
      "        2021-01-04 06:00:00  32907.360  33496.0300  27900.000000  30441.5700  2711.189503      69226.0  31267.965121\n",
      "        2021-01-05 06:00:00  30461.840  35851.4200  29927.550000  35063.0000  1756.751333      61880.0  33151.367357\n",
      "...                                ...         ...           ...         ...          ...          ...           ...\n",
      "ETH/USD 2025-03-13 05:00:00   1872.600   1919.9550   1822.710049   1890.9865    11.947734         83.0   1875.656062\n",
      "        2025-03-14 05:00:00   1891.380   1945.6510   1879.990000   1932.6785    35.640946        109.0   1918.708859\n",
      "        2025-03-15 05:00:00   1933.199   1956.8570   1912.774500   1927.9050    55.173964         66.0   1929.283311\n",
      "        2025-03-16 05:00:00   1926.710   1934.9400   1861.740000   1904.4800    37.606987        108.0   1884.121050\n",
      "        2025-03-17 05:00:00   1903.151   1934.4145   1880.536500   1897.4535    24.378654         21.0   1899.643980\n",
      "\n",
      "[3074 rows x 7 columns]\n",
      "Stored 'df' (DataFrame)\n"
     ]
    }
   ],
   "source": [
    "# Assuming 'df' is your DataFrame with the provided data\n",
    "# Convert 'timestamp' level to datetime\n",
    "df.index = pd.MultiIndex.from_arrays([\n",
    "    df.index.get_level_values('symbol'),\n",
    "    pd.to_datetime(df.index.get_level_values('timestamp'))\n",
    "], names=['symbol', 'timestamp'])\n",
    "\n",
    "# Remove the timezone \n",
    "df.index = pd.MultiIndex.from_arrays([\n",
    "    df.index.get_level_values('symbol'),\n",
    "    df.index.get_level_values('timestamp').tz_localize(None)\n",
    "], names=['symbol', 'timestamp'])\n",
    "\n",
    "# Display the updated DataFrame\n",
    "print(df)\n",
    "%store df"
   ]
  }
 ],
 "metadata": {
  "kernelspec": {
   "display_name": "vwap_env",
   "language": "python",
   "name": "python3"
  },
  "language_info": {
   "codemirror_mode": {
    "name": "ipython",
    "version": 3
   },
   "file_extension": ".py",
   "mimetype": "text/x-python",
   "name": "python",
   "nbconvert_exporter": "python",
   "pygments_lexer": "ipython3",
   "version": "3.10.0"
  }
 },
 "nbformat": 4,
 "nbformat_minor": 2
}
